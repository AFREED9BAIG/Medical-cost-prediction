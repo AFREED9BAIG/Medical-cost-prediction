{
  "nbformat": 4,
  "nbformat_minor": 0,
  "metadata": {
    "colab": {
      "private_outputs": true,
      "provenance": [],
      "collapsed_sections": []
    },
    "kernelspec": {
      "name": "python3",
      "display_name": "Python 3"
    },
    "language_info": {
      "name": "python"
    }
  },
  "cells": [
    {
      "cell_type": "code",
      "execution_count": null,
      "metadata": {
        "id": "KPR_2MUGWavt"
      },
      "outputs": [],
      "source": [
        "#Importing all required Libraries\n",
        "\n",
        "!pip install pandas\n",
        "!pip install sklearn"
      ]
    },
    {
      "cell_type": "code",
      "source": [
        "import pandas as pd\n",
        "import numpy as np\n",
        "import matplotlib.pyplot as plt\n",
        "import seaborn as sns"
      ],
      "metadata": {
        "id": "8SHhNoL4W2dd"
      },
      "execution_count": null,
      "outputs": []
    },
    {
      "cell_type": "code",
      "source": [
        "#Reading thhe csv file in df variable and printing out first 10 rows using head method\n",
        "df=pd.read_csv(\"/content/insurance.csv\")\n",
        "df.head(10)"
      ],
      "metadata": {
        "id": "wmqQzZm5XN-V"
      },
      "execution_count": null,
      "outputs": []
    },
    {
      "cell_type": "code",
      "source": [
        "df.dtypes"
      ],
      "metadata": {
        "id": "VmdXLmhGYMrC"
      },
      "execution_count": null,
      "outputs": []
    },
    {
      "cell_type": "code",
      "source": [
        "#one hot encoding\n",
        "tem=pd.get_dummies(df[\"region\"])\n",
        "\n",
        "tem.head(10)"
      ],
      "metadata": {
        "id": "cgE_vd7TYTCw"
      },
      "execution_count": null,
      "outputs": []
    },
    {
      "cell_type": "code",
      "source": [
        "df.drop(\"region\",axis=1,inplace=True)\n"
      ],
      "metadata": {
        "id": "MN8c3kdGYzTt"
      },
      "execution_count": null,
      "outputs": []
    },
    {
      "cell_type": "code",
      "source": [
        "df.head(10)"
      ],
      "metadata": {
        "id": "5M7FMyriZ5D2"
      },
      "execution_count": null,
      "outputs": []
    },
    {
      "cell_type": "code",
      "source": [
        "#combining both data sets \n",
        "df=pd.concat([df,tem],axis=1)\n",
        "df.head(10)"
      ],
      "metadata": {
        "id": "pxSR0dHXZ-70"
      },
      "execution_count": null,
      "outputs": []
    },
    {
      "cell_type": "code",
      "source": [
        "#converting categorical variables to numeric using map\n",
        "map={\"yes\":1,\"no\":0}\n",
        "df[\"smoker\"]=df[\"smoker\"].map(map)\n",
        "map1={\"female\":0,\"male\":1}\n",
        "df[\"sex\"]=df[\"sex\"].map(map)\n",
        "df.head(10)"
      ],
      "metadata": {
        "id": "I_45CQF8Z8TL"
      },
      "execution_count": null,
      "outputs": []
    },
    {
      "cell_type": "code",
      "source": [
        "df.corr()"
      ],
      "metadata": {
        "id": "qs4ab51ub17U"
      },
      "execution_count": null,
      "outputs": []
    },
    {
      "cell_type": "code",
      "source": [
        "#correlation Heatmap to find out highly correlated columns \n",
        "plt.figure(figsize=(20,20))\n",
        "sns.heatmap(df.corr(),annot=True,cmap=\"coolwarm\",linewidths=2)"
      ],
      "metadata": {
        "id": "GydlqTN1b8C1"
      },
      "execution_count": null,
      "outputs": []
    },
    {
      "cell_type": "code",
      "source": [
        "#scatter plot of target based on smoker \n",
        "x=df[\"smoker\"]\n",
        "y=df[\"expenses\"]\n",
        "plt.figure(figsize=(12,9))\n",
        "plt.scatter(x,y)\n",
        "plt.xlabel(\"nonsmoker vs smoker\")\n",
        "plt.ylabel(\"expenes\")"
      ],
      "metadata": {
        "id": "kcTs4Kimc-1M"
      },
      "execution_count": null,
      "outputs": []
    },
    {
      "cell_type": "code",
      "source": [
        "y=df[\"expenses\"]\n",
        "x=df.drop(\"expenses\",axis=1)"
      ],
      "metadata": {
        "id": "7YS3WIU-f28L"
      },
      "execution_count": null,
      "outputs": []
    },
    {
      "cell_type": "code",
      "source": [
        "x"
      ],
      "metadata": {
        "id": "oT8vpj6veeN1"
      },
      "execution_count": null,
      "outputs": []
    },
    {
      "cell_type": "code",
      "source": [
        "y"
      ],
      "metadata": {
        "id": "z4ngNC6hgN01"
      },
      "execution_count": null,
      "outputs": []
    },
    {
      "cell_type": "code",
      "source": [
        "from sklearn.model_selection import train_test_split\n",
        "#splitting the data into 85% training and 15% for testing\n",
        "x_train,x_test,y_train,y_test=train_test_split(x,y,random_state=1,test_size=0.15)\n",
        "\n"
      ],
      "metadata": {
        "id": "fyqVbuABIvwF"
      },
      "execution_count": null,
      "outputs": []
    },
    {
      "cell_type": "code",
      "source": [
        "from sklearn.linear_model import LinearRegression\n",
        "#Training a Multiple linear regression model \n",
        "reg=LinearRegression().fit(x_train,y_train)\n",
        "y.pred=reg.predict(x_test)"
      ],
      "metadata": {
        "id": "zNGRny5lIwMt"
      },
      "execution_count": null,
      "outputs": []
    },
    {
      "cell_type": "code",
      "source": [
        "from sklearn.metrics import r2_score\n",
        "#checking the R squared error on test data\n",
        "r2_score(y_test, y_pred)"
      ],
      "metadata": {
        "id": "PhXFy5i3Jbue"
      },
      "execution_count": null,
      "outputs": []
    },
    {
      "cell_type": "code",
      "source": [
        "#storing independent features in a temporary file\n",
        "p_x=x"
      ],
      "metadata": {
        "id": "5EPkZeTtKay1"
      },
      "execution_count": null,
      "outputs": []
    },
    {
      "cell_type": "code",
      "source": [
        "from sklearn.preprocessing import PolynomialFeatures\n",
        "#Changing the data to a 3rd degree polynomial \n",
        "pol=PolynomialFeatures(Degree=3)\n",
        "p_x=pol.fit_transform(x)\n",
        "p_x"
      ],
      "metadata": {
        "id": "_x2urBTMK5lu"
      },
      "execution_count": null,
      "outputs": []
    },
    {
      "cell_type": "code",
      "source": [
        "#Training the polynomial similarly but with the 3rd degree polynomial of x this time \n",
        "x_train,x_test,y_train,y_test=train_test_split(p_x,y,random_state=1,test_size=0.15)\n",
        "reg=LinearRegression().fit(x_train,y_train)\n",
        "y_pred=reg.predict(x_test)\n",
        "r2_score(y_test,y_pred)"
      ],
      "metadata": {
        "id": "3aZdMfBwLm7O"
      },
      "execution_count": null,
      "outputs": []
    },
    {
      "cell_type": "code",
      "source": [
        "#cross validating the score to check and avoid overfitting\n",
        "from sklearn.model_selection import cross_val_score\n",
        "c=cross_val_score(reg,p_x,y,cv=4)\n",
        "c"
      ],
      "metadata": {
        "id": "Y6_AlWIKMdlg"
      },
      "execution_count": null,
      "outputs": []
    },
    {
      "cell_type": "code",
      "source": [
        "#Final mean accuracy\n",
        "print(\"mean accuracy after cross validation is: \", c.mean()*100,end=\"%\")"
      ],
      "metadata": {
        "id": "3J0x9FPhNZE7"
      },
      "execution_count": null,
      "outputs": []
    }
  ]
}